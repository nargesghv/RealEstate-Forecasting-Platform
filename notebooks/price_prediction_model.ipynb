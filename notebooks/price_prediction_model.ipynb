{
 "cells": [
  {
   "cell_type": "code",
   "execution_count": null,
   "id": "74003d97",
   "metadata": {},
   "outputs": [],
   "source": [
    "# -- Imports --\n",
    "import pandas as pd\n",
    "import numpy as np\n",
    "from sklearn.model_selection import train_test_split\n",
    "from xgboost import XGBRegressor\n",
    "from sklearn.metrics import mean_squared_error, r2_score\n",
    "import matplotlib.pyplot as plt\n",
    "import seaborn as sns"
   ]
  },
  {
   "cell_type": "code",
   "execution_count": null,
   "id": "39284a64",
   "metadata": {},
   "outputs": [],
   "source": [
    "# -- Load Preprocessed Data --\n",
    "processed_data_path = \"../data/processed_toronto_hpi.csv\"\n",
    "df = pd.read_csv(processed_data_path)\n",
    "\n",
    "print(\"✅ Preprocessed data loaded.\")\n",
    "\n",
    "# -- Features and Target --\n",
    "features = ['Year', 'Month']\n",
    "target = 'HPI'\n",
    "\n",
    "X = df[features]\n",
    "y = df[target]\n",
    "\n",
    "# -- Train-Test Split --\n",
    "X_train, X_test, y_train, y_test = train_test_split(X, y, test_size=0.2, random_state=42)\n",
    "print(\"✅ Data split into training and testing sets.\")\n",
    "\n",
    "# -- Model Training --\n",
    "model = XGBRegressor(n_estimators=100, learning_rate=0.1, random_state=42)\n",
    "model.fit(X_train, y_train)\n",
    "print(\"✅ Model trained.\")\n",
    "\n",
    "# -- Model Evaluation --\n",
    "y_pred = model.predict(X_test)\n",
    "rmse = np.sqrt(mean_squared_error(y_test, y_pred))\n",
    "r2 = r2_score(y_test, y_pred)\n",
    "\n",
    "print(f\"\\nModel Evaluation:\\nRMSE: {rmse:.2f}\\nR²: {r2:.2f}\")\n",
    "\n",
    "# -- Feature Importance --\n",
    "plt.figure(figsize=(8, 6))\n",
    "importance = model.feature_importances_\n",
    "sns.barplot(x=features, y=importance)\n",
    "plt.title('Feature Importance')\n",
    "plt.show()\n",
    "\n",
    "# -- Prediction Visualization --\n",
    "plt.figure(figsize=(10, 6))\n",
    "plt.scatter(y_test, y_pred, alpha=0.7)\n",
    "plt.xlabel(\"Actual HPI\")\n",
    "plt.ylabel(\"Predicted HPI\")\n",
    "plt.title(\"Actual vs Predicted Home Price Index\")\n",
    "plt.grid(True)\n",
    "plt.show()\n",
    "\n",
    "# -- Save Trained Model --\n",
    "import joblib\n",
    "model_path = \"../model/price_model.pkl\"\n",
    "joblib.dump(model, model_path)\n",
    "print(f\"✅ Model saved to: {model_path}\")\n"
   ]
  }
 ],
 "metadata": {
  "language_info": {
   "name": "python"
  }
 },
 "nbformat": 4,
 "nbformat_minor": 5
}
