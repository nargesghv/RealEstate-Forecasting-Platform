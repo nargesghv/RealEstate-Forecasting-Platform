{
 "cells": [
  {
   "cell_type": "code",
   "execution_count": null,
   "id": "b38c5e3f",
   "metadata": {},
   "outputs": [],
   "source": [
    "# vector_similarity_search.ipynb\n",
    "# Build vector database for similarity search using FAISS\n",
    "\n",
    "# -- Imports --\n",
    "import pandas as pd\n",
    "import numpy as np\n",
    "import faiss"
   ]
  },
  {
   "cell_type": "code",
   "execution_count": null,
   "id": "1264376b",
   "metadata": {},
   "outputs": [],
   "source": [
    "# -- Load Processed Data --\n",
    "data_path = \"../data/processed_toronto_hpi.csv\"\n",
    "df = pd.read_csv(data_path)\n",
    "\n",
    "# -- Feature Selection for Embeddings --\n",
    "features = ['Year', 'Month', 'HPI']\n",
    "embeddings = df[features].values.astype('float32')\n",
    "\n",
    "# -- Initialize FAISS index --\n",
    "dim = embeddings.shape[1]  # number of dimensions\n",
    "index = faiss.IndexFlatL2(dim)\n",
    "\n",
    "# -- Add embeddings to FAISS index --\n",
    "index.add(embeddings)\n",
    "\n",
    "print(f\"✅ Added {index.ntotal} embeddings to FAISS index.\")\n",
    "\n",
    "# -- Example Query --\n",
    "query_vector = np.array([[2024, 5, 350]]).astype('float32')  # Example query (year, month, price index)\n",
    "distances, indices = index.search(query_vector, k=5)\n",
    "\n",
    "print(\"\\nTop 5 similar records:\")\n",
    "for idx, dist in zip(indices[0], distances[0]):\n",
    "    print(f\"Record: {df.iloc[idx].to_dict()}, Distance: {dist:.2f}\")\n",
    "\n",
    "# -- Save FAISS index --\n",
    "faiss.write_index(index, \"../model/vector_index.faiss\")\n",
    "print(\"✅ FAISS index saved to '../model/vector_index.faiss'\")\n"
   ]
  }
 ],
 "metadata": {
  "language_info": {
   "name": "python"
  }
 },
 "nbformat": 4,
 "nbformat_minor": 5
}
